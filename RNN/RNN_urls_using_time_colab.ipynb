{
  "nbformat": 4,
  "nbformat_minor": 0,
  "metadata": {
    "colab": {
      "name": "RNN_urls_using_time_colab.ipynb",
      "version": "0.3.2",
      "provenance": []
    },
    "kernelspec": {
      "name": "python3",
      "display_name": "Python 3"
    },
    "accelerator": "GPU"
  },
  "cells": [
    {
      "metadata": {
        "id": "_Rjljxovyt61",
        "colab_type": "text"
      },
      "cell_type": "markdown",
      "source": [
        "# Second try - RNN (No sequences with variable length, 2 feature : urlCode and Time spent on page)\n",
        "\n",
        "### In this notebook, I wrote a RNN, using urlCode and secondInPreviousPage as features."
      ]
    },
    {
      "metadata": {
        "id": "UDuNVAOxyt63",
        "colab_type": "code",
        "outputId": "9a106150-b81a-4553-d3a2-42aafb67d79e",
        "colab": {
          "base_uri": "https://localhost:8080/",
          "height": 34
        }
      },
      "cell_type": "code",
      "source": [
        "# Recurrent Neural Network\n",
        "\n",
        "\n",
        "# Importing the libraries\n",
        "!pip install scikit-learn==0.20.1\n",
        "import numpy as np\n",
        "import matplotlib.pyplot as plt\n",
        "import pandas as pd\n",
        "from sklearn.model_selection import train_test_split\n",
        "from sklearn.preprocessing import LabelEncoder, OneHotEncoder, MinMaxScaler\n",
        "import tensorflow as tf\n",
        "from sklearn.metrics import mean_squared_error\n",
        "from math import sqrt\n",
        "from google.colab import drive\n",
        "drive.mount('/content/drive')"
      ],
      "execution_count": 0,
      "outputs": [
        {
          "output_type": "stream",
          "text": [
            "Drive already mounted at /content/drive; to attempt to forcibly remount, call drive.mount(\"/content/drive\", force_remount=True).\n"
          ],
          "name": "stdout"
        }
      ]
    },
    {
      "metadata": {
        "id": "JRSKklWoyt66",
        "colab_type": "code",
        "colab": {}
      },
      "cell_type": "code",
      "source": [
        "# Importing the data set and splitting in train and test\n",
        "dataset_train = pd.read_csv('drive/My Drive/Colab Notebooks/dataset/time_series_all_train.csv', names= [\"secFromPrevPage\", \"urlCode\"], header= None)\n",
        "url_codes = dataset_train.iloc[:, 1:2].values\n",
        "seconds_in_prev_page = dataset_train.iloc[:, 0:1].values\n",
        "\n"
      ],
      "execution_count": 0,
      "outputs": []
    },
    {
      "metadata": {
        "id": "2A62kmtNyt7A",
        "colab_type": "code",
        "colab": {}
      },
      "cell_type": "code",
      "source": [
        "#dataset_train"
      ],
      "execution_count": 0,
      "outputs": []
    },
    {
      "metadata": {
        "id": "pPtWIipYyt7C",
        "colab_type": "code",
        "outputId": "9f53907c-1c18-4784-fb66-7a5929d10474",
        "colab": {
          "base_uri": "https://localhost:8080/",
          "height": 136
        }
      },
      "cell_type": "code",
      "source": [
        "url_codes"
      ],
      "execution_count": 0,
      "outputs": [
        {
          "output_type": "execute_result",
          "data": {
            "text/plain": [
              "array([[ 238],\n",
              "       [   3],\n",
              "       [  49],\n",
              "       ...,\n",
              "       [ 876],\n",
              "       [1200],\n",
              "       [3179]])"
            ]
          },
          "metadata": {
            "tags": []
          },
          "execution_count": 4
        }
      ]
    },
    {
      "metadata": {
        "id": "P_JkU2xNyt7F",
        "colab_type": "code",
        "outputId": "cffc3840-1ab8-49af-8883-1c208d32cae1",
        "colab": {
          "base_uri": "https://localhost:8080/",
          "height": 136
        }
      },
      "cell_type": "code",
      "source": [
        "seconds_in_prev_page"
      ],
      "execution_count": 0,
      "outputs": [
        {
          "output_type": "execute_result",
          "data": {
            "text/plain": [
              "array([[  0],\n",
              "       [580],\n",
              "       [220],\n",
              "       ...,\n",
              "       [ 70],\n",
              "       [260],\n",
              "       [ 30]])"
            ]
          },
          "metadata": {
            "tags": []
          },
          "execution_count": 5
        }
      ]
    },
    {
      "metadata": {
        "id": "qHXMhWPVyt7H",
        "colab_type": "code",
        "outputId": "7610fb37-a71c-460b-9b1b-c971926f4c22",
        "colab": {
          "base_uri": "https://localhost:8080/",
          "height": 139
        }
      },
      "cell_type": "code",
      "source": [
        "onehotencoder = OneHotEncoder()\n",
        "url_codes = url_codes.reshape(-1,1)\n",
        "print(url_codes.shape)\n",
        "\n",
        "\n",
        "url_codes_scaled = onehotencoder.fit_transform(url_codes).toarray()\n",
        "print(url_codes_scaled.shape)"
      ],
      "execution_count": 0,
      "outputs": [
        {
          "output_type": "stream",
          "text": [
            "(17448, 1)\n"
          ],
          "name": "stdout"
        },
        {
          "output_type": "stream",
          "text": [
            "/usr/local/lib/python3.6/dist-packages/sklearn/preprocessing/_encoders.py:368: FutureWarning: The handling of integer data will change in version 0.22. Currently, the categories are determined based on the range [0, max(values)], while in the future they will be determined based on the unique values.\n",
            "If you want the future behaviour and silence this warning, you can specify \"categories='auto'\".\n",
            "In case you used a LabelEncoder before this OneHotEncoder to convert the categories to integers, then you can now use the OneHotEncoder directly.\n",
            "  warnings.warn(msg, FutureWarning)\n"
          ],
          "name": "stderr"
        },
        {
          "output_type": "stream",
          "text": [
            "(17448, 3436)\n"
          ],
          "name": "stdout"
        }
      ]
    },
    {
      "metadata": {
        "id": "9TH8PyLSyt7J",
        "colab_type": "code",
        "outputId": "9cd342fd-2859-4683-b10c-82320555c94f",
        "colab": {
          "base_uri": "https://localhost:8080/",
          "height": 71
        }
      },
      "cell_type": "code",
      "source": [
        "# Feature Scaling\n",
        "sc = MinMaxScaler(feature_range = (0, 1))\n",
        "seconds_in_prev_page_scaled = sc.fit_transform(seconds_in_prev_page)\n"
      ],
      "execution_count": 0,
      "outputs": [
        {
          "output_type": "stream",
          "text": [
            "/usr/local/lib/python3.6/dist-packages/sklearn/utils/validation.py:595: DataConversionWarning: Data with input dtype int64 was converted to float64 by MinMaxScaler.\n",
            "  warnings.warn(msg, DataConversionWarning)\n"
          ],
          "name": "stderr"
        }
      ]
    },
    {
      "metadata": {
        "id": "ryHolXLiyt7L",
        "colab_type": "code",
        "outputId": "ff5e47c6-c9b4-4b92-ea2a-3f33673dc3e6",
        "colab": {
          "base_uri": "https://localhost:8080/",
          "height": 34
        }
      },
      "cell_type": "code",
      "source": [
        "print(seconds_in_prev_page_scaled.shape)"
      ],
      "execution_count": 0,
      "outputs": [
        {
          "output_type": "stream",
          "text": [
            "(17448, 1)\n"
          ],
          "name": "stdout"
        }
      ]
    },
    {
      "metadata": {
        "id": "NmkiqZIlyt7P",
        "colab_type": "code",
        "outputId": "be7b77af-1a6d-4fde-eb96-5d4ed7b2356d",
        "colab": {
          "base_uri": "https://localhost:8080/",
          "height": 136
        }
      },
      "cell_type": "code",
      "source": [
        "seconds_in_prev_page_scaled"
      ],
      "execution_count": 0,
      "outputs": [
        {
          "output_type": "execute_result",
          "data": {
            "text/plain": [
              "array([[0.        ],\n",
              "       [0.32222222],\n",
              "       [0.12222222],\n",
              "       ...,\n",
              "       [0.03888889],\n",
              "       [0.14444444],\n",
              "       [0.01666667]])"
            ]
          },
          "metadata": {
            "tags": []
          },
          "execution_count": 9
        }
      ]
    },
    {
      "metadata": {
        "id": "x7gO44b3yt7V",
        "colab_type": "raw"
      },
      "cell_type": "markdown",
      "source": [
        "def length(sequence):\n",
        "    used = tf.sign(tf.reduce_max(tf.abs(sequence), 2))\n",
        "    length = tf.reduce_sum(used, 1)\n",
        "    length = tf.cast(length, tf.int32)\n",
        "    return length\n",
        "\n",
        "\n",
        "max_length = 100\n",
        "frame_size = 64\n",
        "num_hidden = 200\n",
        "\n",
        "sequence = tf.placeholder(\n",
        "    tf.float32, [None, max_length, frame_size])\n",
        "output, state = tf.nn.dynamic_rnn(\n",
        "    tf.contrib.rnn.GRUCell(num_hidden),\n",
        "    sequence,\n",
        "    dtype=tf.float32,\n",
        "    sequence_length=length(sequence),\n",
        ")"
      ]
    },
    {
      "metadata": {
        "id": "Kob9eYaFyt7W",
        "colab_type": "code",
        "colab": {}
      },
      "cell_type": "code",
      "source": [
        "index_start_seq = 0\n",
        "index_end_seq = 0\n",
        "X_lengths = []\n",
        "\n",
        "for i in range(1,len(seconds_in_prev_page)):\n",
        "    if seconds_in_prev_page[i] == 0:\n",
        "        index_end_seq = i\n",
        "        len_seq_temp = index_end_seq - index_start_seq\n",
        "        X_lengths.append(len_seq_temp)\n",
        "        index_start_seq = index_end_seq\n",
        "    if i == len(seconds_in_prev_page) -1:\n",
        "        index_end_seq = i + 1\n",
        "        len_seq_temp = index_end_seq - index_start_seq\n",
        "        X_lengths.append(len_seq_temp)"
      ],
      "execution_count": 0,
      "outputs": []
    },
    {
      "metadata": {
        "id": "0b1MSOZ2yt7Y",
        "colab_type": "code",
        "outputId": "ca203f73-72be-4b9a-8d9f-ba491da1cfac",
        "colab": {
          "base_uri": "https://localhost:8080/",
          "height": 34
        }
      },
      "cell_type": "code",
      "source": [
        "max_length = max(X_lengths)\n",
        "frame_size = int(np.mean(X_lengths))\n",
        "len_seq = 6\n",
        "\n",
        "print(max_length,frame_size)\n"
      ],
      "execution_count": 0,
      "outputs": [
        {
          "output_type": "stream",
          "text": [
            "54 5\n"
          ],
          "name": "stdout"
        }
      ]
    },
    {
      "metadata": {
        "id": "T0BOl_CZyt7a",
        "colab_type": "code",
        "colab": {}
      },
      "cell_type": "code",
      "source": [
        "training_set_scaled = pd.concat((pd.DataFrame(url_codes_scaled), pd.DataFrame(seconds_in_prev_page_scaled)), axis = 1).values"
      ],
      "execution_count": 0,
      "outputs": []
    },
    {
      "metadata": {
        "id": "ro55Ey3ayt7c",
        "colab_type": "raw"
      },
      "cell_type": "markdown",
      "source": [
        "X_train = []\n",
        "y_train = []\n",
        "seq_temp = [[0 for _ in range(training_set_scaled.shape[1])] for _ in  range(max_length)]\n",
        "\n",
        "\n",
        "index_seq = 0\n",
        "p = 0\n",
        "for len_seq_temp in X_lengths:\n",
        "    p += 1\n",
        "    index_seq += len_seq_temp\n",
        "    seq_temp[:len_seq_temp] = training_set_scaled[index_seq - len_seq_temp: index_seq, :]\n",
        "    if p == 3:\n",
        "        print(np.count_nonzero(np.array(seq_temp)[3]))\n",
        "        print(np.array(seq_temp).shape)\n",
        "    X_train.append(training_set_scaled[i - X_lengths[0]:i, :])\n",
        "    #y_train.append(training_set_scaled[index_seq, :])\n",
        "X_train = np.array(X_train)\n",
        "#y_train = np.array(y_train)"
      ]
    },
    {
      "metadata": {
        "id": "AygTzC-Gyt7d",
        "colab_type": "code",
        "colab": {}
      },
      "cell_type": "code",
      "source": [
        "# Creating a data structure for training\n",
        "X_train = []\n",
        "y_train = []\n",
        "for i in range(len_seq , training_set_scaled.shape[0]):\n",
        "    X_train.append(training_set_scaled[i - len_seq : i, :])\n",
        "    y_train.append(training_set_scaled[i,:])\n",
        "X_train, y_train = np.array(X_train), np.array(y_train)"
      ],
      "execution_count": 0,
      "outputs": []
    },
    {
      "metadata": {
        "id": "M6oVjYv0yt7f",
        "colab_type": "code",
        "outputId": "18252c51-8109-4035-aa49-e22e60ec019f",
        "colab": {
          "base_uri": "https://localhost:8080/",
          "height": 34
        }
      },
      "cell_type": "code",
      "source": [
        "X_train.shape"
      ],
      "execution_count": 0,
      "outputs": [
        {
          "output_type": "execute_result",
          "data": {
            "text/plain": [
              "(17442, 6, 3437)"
            ]
          },
          "metadata": {
            "tags": []
          },
          "execution_count": 14
        }
      ]
    },
    {
      "metadata": {
        "id": "nDREerppyt7i",
        "colab_type": "code",
        "colab": {}
      },
      "cell_type": "code",
      "source": [
        "#X_train"
      ],
      "execution_count": 0,
      "outputs": []
    },
    {
      "metadata": {
        "id": "vU96yj1_yt7k",
        "colab_type": "code",
        "colab": {}
      },
      "cell_type": "code",
      "source": [
        "# Reshaping\n",
        "#X_train = np.reshape(X_train, (X_train.shape[0], X_train.shape[1], ))"
      ],
      "execution_count": 0,
      "outputs": []
    },
    {
      "metadata": {
        "id": "3-v5Cvbfyt7m",
        "colab_type": "code",
        "outputId": "e0c19ccf-5975-4935-d2f5-8632726a37e0",
        "colab": {
          "base_uri": "https://localhost:8080/",
          "height": 34
        }
      },
      "cell_type": "code",
      "source": [
        "# Part 2 - Building the RNN\n",
        "\n",
        "# Importing the Keras libraries and packages\n",
        "from keras.models import Sequential, load_model\n",
        "from keras.layers import Dense, Flatten\n",
        "from keras.layers import LSTM, CuDNNLSTM\n",
        "from keras.layers import Dropout\n",
        "from keras.callbacks import ModelCheckpoint\n",
        "from numpy.testing import assert_allclose\n",
        "from tensorflow.contrib.rnn import *"
      ],
      "execution_count": 0,
      "outputs": [
        {
          "output_type": "stream",
          "text": [
            "Using TensorFlow backend.\n"
          ],
          "name": "stderr"
        }
      ]
    },
    {
      "metadata": {
        "id": "xBdhzcoByt7s",
        "colab_type": "code",
        "outputId": "342d8ea7-b841-4329-a5f2-449cbc345165",
        "colab": {
          "base_uri": "https://localhost:8080/",
          "height": 54
        }
      },
      "cell_type": "code",
      "source": [
        "'''\n",
        "LSTM_cell_dynamic = tf.contrib.rnn.LSTMCell(num_units=frame_size, state_is_tuple=True)\n",
        " \n",
        "outputs, last_states = tf.nn.dynamic_rnn(\n",
        "    cell=LSTM_cell_dynamic,\n",
        "    dtype=tf.float64,\n",
        "    sequence_length=X_lengths,\n",
        "    inputs=X_train)\n",
        " \n",
        "result = tf.contrib.learn.run_n(\n",
        "    {\"outputs\": outputs, \"last_states\": last_states},\n",
        "    n=1,\n",
        "    feed_dict=None)\n",
        "'''"
      ],
      "execution_count": 0,
      "outputs": [
        {
          "output_type": "execute_result",
          "data": {
            "text/plain": [
              "'\\nLSTM_cell_dynamic = tf.contrib.rnn.LSTMCell(num_units=frame_size, state_is_tuple=True)\\n \\noutputs, last_states = tf.nn.dynamic_rnn(\\n    cell=LSTM_cell_dynamic,\\n    dtype=tf.float64,\\n    sequence_length=X_lengths,\\n    inputs=X_train)\\n \\nresult = tf.contrib.learn.run_n(\\n    {\"outputs\": outputs, \"last_states\": last_states},\\n    n=1,\\n    feed_dict=None)\\n'"
            ]
          },
          "metadata": {
            "tags": []
          },
          "execution_count": 18
        }
      ]
    },
    {
      "metadata": {
        "id": "6pVGf2GAyt7w",
        "colab_type": "code",
        "outputId": "c60a63bb-2637-4bf6-e119-7778fbdb9372",
        "colab": {
          "base_uri": "https://localhost:8080/",
          "height": 54
        }
      },
      "cell_type": "code",
      "source": [
        "'''\n",
        "# Initialising the RNN\n",
        "regressor = Sequential()\n",
        "\n",
        "regressor.add(LSTM_cell_dynamic)\n",
        "regressor.add(Dropout(0.2))\n",
        "\n",
        "regressor.add(Flatten())\n",
        "regressor.add(Dense(activation ='sigmoid', units = X_train.shape[2]))\n",
        "regressor.compile(optimizer='adam', loss='categorical_crossentropy', metrics=['accuracy'])\n",
        "\n",
        "# Fitting the RNN to the Training set\n",
        "regressor.fit(X_train, outputs, epochs = 20, batch_size = 40)\n",
        "'''"
      ],
      "execution_count": 0,
      "outputs": [
        {
          "output_type": "execute_result",
          "data": {
            "text/plain": [
              "\"\\n# Initialising the RNN\\nregressor = Sequential()\\n\\nregressor.add(LSTM_cell_dynamic)\\nregressor.add(Dropout(0.2))\\n\\nregressor.add(Flatten())\\nregressor.add(Dense(activation ='sigmoid', units = X_train.shape[2]))\\nregressor.compile(optimizer='adam', loss='categorical_crossentropy', metrics=['accuracy'])\\n\\n# Fitting the RNN to the Training set\\nregressor.fit(X_train, outputs, epochs = 20, batch_size = 40)\\n\""
            ]
          },
          "metadata": {
            "tags": []
          },
          "execution_count": 19
        }
      ]
    },
    {
      "metadata": {
        "id": "3i3FgE83yt7x",
        "colab_type": "code",
        "outputId": "c8651f22-5998-48ea-acb6-2a4b7e672288",
        "colab": {
          "base_uri": "https://localhost:8080/",
          "height": 34
        }
      },
      "cell_type": "code",
      "source": [
        "import tensorflow as tf\n",
        "print(tf.test.gpu_device_name())\n",
        "config = tf.ConfigProto()\n",
        "config.gpu_options.allow_growth = True"
      ],
      "execution_count": 0,
      "outputs": [
        {
          "output_type": "stream",
          "text": [
            "/device:GPU:0\n"
          ],
          "name": "stdout"
        }
      ]
    },
    {
      "metadata": {
        "id": "qNK5eUr61ppi",
        "colab_type": "code",
        "outputId": "71d8c633-9575-4e89-bf8b-ee674ab6b0c5",
        "colab": {
          "base_uri": "https://localhost:8080/",
          "height": 204
        }
      },
      "cell_type": "code",
      "source": [
        "from tensorflow.python.client import device_lib\n",
        "\n",
        "def get_available_gpus():\n",
        "    local_device_protos = device_lib.list_local_devices()\n",
        "    return [x for x in local_device_protos if x.device_type == 'GPU']\n",
        "  \n",
        "print(get_available_gpus())"
      ],
      "execution_count": 0,
      "outputs": [
        {
          "output_type": "stream",
          "text": [
            "[name: \"/device:GPU:0\"\n",
            "device_type: \"GPU\"\n",
            "memory_limit: 11281553818\n",
            "locality {\n",
            "  bus_id: 1\n",
            "  links {\n",
            "  }\n",
            "}\n",
            "incarnation: 2283558411668153987\n",
            "physical_device_desc: \"device: 0, name: Tesla K80, pci bus id: 0000:00:04.0, compute capability: 3.7\"\n",
            "]\n"
          ],
          "name": "stdout"
        }
      ]
    },
    {
      "metadata": {
        "id": "bAph6S6syt7z",
        "colab_type": "code",
        "colab": {}
      },
      "cell_type": "code",
      "source": [
        "# Initialising the RNN\n",
        "regressor = Sequential()\n",
        "\n",
        "regressor.add(CuDNNLSTM(units = 60, return_sequences = True, input_shape = (X_train.shape[1], X_train.shape[2])))\n",
        "regressor.add(Dropout(0.2))\n",
        "\n",
        "\n",
        "regressor.add(CuDNNLSTM(units = 60, return_sequences = True))\n",
        "regressor.add(Dropout(0.2))\n",
        "\n",
        "regressor.add(CuDNNLSTM(units = 60, return_sequences = True))\n",
        "regressor.add(Dropout(0.2))\n",
        "\n",
        "\n",
        "regressor.add(CuDNNLSTM(units = 60, return_sequences = True))\n",
        "regressor.add(Dropout(0.2))\n",
        "\n",
        "regressor.add(Flatten())\n",
        "\n",
        "regressor.add(Dense(activation = 'softmax', units = X_train.shape[2]))\n",
        "regressor.compile(optimizer = 'adam', loss ='categorical_crossentropy', metrics=['accuracy'])\n",
        "\n",
        "# define the checkpoint\n",
        "filepath = \"drive/My Drive/Colab Notebooks/models_trained/28_11_adam_softmax_binary_entropy_with_time_no_sequences_length_2.h30\"\n",
        "checkpoint = ModelCheckpoint(filepath, monitor='loss', verbose=1, save_best_only=True, mode='min')\n",
        "callbacks_list = [checkpoint]\n",
        "\n",
        "# fit the model\n",
        "regressor.fit(X_train, y_train, epochs = 30, batch_size = 70, callbacks = callbacks_list, shuffle = False)"
      ],
      "execution_count": 0,
      "outputs": []
    },
    {
      "metadata": {
        "id": "3t8sfbRdyt71",
        "colab_type": "code",
        "colab": {}
      },
      "cell_type": "code",
      "source": [
        "regressor = load_model(\"drive/My Drive/Colab Notebooks/models_trained/28_11_adam_softmax_binary_entropy_with_time_no_sequences_length_2.h30\")"
      ],
      "execution_count": 0,
      "outputs": []
    },
    {
      "metadata": {
        "id": "N8vgXPf8yt76",
        "colab_type": "code",
        "colab": {}
      },
      "cell_type": "code",
      "source": [
        "'''\n",
        "# load the model\n",
        "regressor = load_model(\"models_trained/26_11_adam_softmax_binary_entropy_with_time_no_sequences_length_2.h10\")\n",
        "\n",
        "\n",
        "# define the checkpoint\n",
        "filepath = \"models_trained/26_11_adam_softmax_binary_entropy_with_time_no_sequences_length_2.h20\"\n",
        "checkpoint = ModelCheckpoint(filepath, monitor='loss', verbose=1, save_best_only=True, mode='min')\n",
        "callbacks_list = [checkpoint]\n",
        "\n",
        "\n",
        "# fit the model\n",
        "regressor.fit(X_train, y_train, epochs = 5, batch_size = 50, callbacks=callbacks_list, shuffle = False)\n",
        "'''"
      ],
      "execution_count": 0,
      "outputs": []
    },
    {
      "metadata": {
        "id": "JV0O_uGkyt78",
        "colab_type": "code",
        "colab": {}
      },
      "cell_type": "code",
      "source": [
        "# Part 3 - Making the predictions and visualising the results\n",
        "\n",
        "dataset_test = pd.read_csv('drive/My Drive/Colab Notebooks/dataset/time_series_all_test.csv', names= [\"secFromPrevPage\", \"urlCode\"], header= None)\n",
        "real_urls = dataset_test.iloc[:, 1:2].values\n",
        "real_times = dataset_test.iloc[:, 0:1].values"
      ],
      "execution_count": 0,
      "outputs": []
    },
    {
      "metadata": {
        "id": "bfnlAKahyt79",
        "colab_type": "code",
        "colab": {}
      },
      "cell_type": "code",
      "source": [
        "real_urls"
      ],
      "execution_count": 0,
      "outputs": []
    },
    {
      "metadata": {
        "id": "1FQHHxmSyt8D",
        "colab_type": "code",
        "colab": {}
      },
      "cell_type": "code",
      "source": [
        "real_times"
      ],
      "execution_count": 0,
      "outputs": []
    },
    {
      "metadata": {
        "id": "GlDWbT7Lyt8G",
        "colab_type": "code",
        "colab": {}
      },
      "cell_type": "code",
      "source": [
        "# Getting the predicted urls\n",
        "dataset_total = pd.concat((dataset_train, dataset_test), axis = 0)\n",
        "inputs = dataset_total[len(dataset_total) - len(dataset_test) - len_seq:].values"
      ],
      "execution_count": 0,
      "outputs": []
    },
    {
      "metadata": {
        "id": "YBviOwD2yt8I",
        "colab_type": "code",
        "colab": {}
      },
      "cell_type": "code",
      "source": [
        "inputs.shape"
      ],
      "execution_count": 0,
      "outputs": []
    },
    {
      "metadata": {
        "id": "hOYf_eDwyt8K",
        "colab_type": "code",
        "outputId": "e63e207b-16f6-4c22-ada4-1aa227e2d316",
        "colab": {
          "base_uri": "https://localhost:8080/",
          "height": 51
        }
      },
      "cell_type": "code",
      "source": [
        "inputs_url_codes = inputs[:,0].reshape(-1,1)\n",
        "inputs_times = inputs[:,1].reshape(-1,1)\n",
        "print(inputs_url_codes.shape)\n",
        "print(inputs_times.shape)\n",
        "\n",
        "inputs_url_codes = onehotencoder.transform(inputs_url_codes).toarray()\n",
        "\n",
        "inputs = np.append(inputs_url_codes, inputs_times, axis=1)"
      ],
      "execution_count": 0,
      "outputs": [
        {
          "output_type": "stream",
          "text": [
            "(3483, 1)\n",
            "(3483, 1)\n"
          ],
          "name": "stdout"
        }
      ]
    },
    {
      "metadata": {
        "id": "HWQxp4Usyt8O",
        "colab_type": "code",
        "colab": {}
      },
      "cell_type": "code",
      "source": [
        "inputs.shape"
      ],
      "execution_count": 0,
      "outputs": []
    },
    {
      "metadata": {
        "id": "ltFZb00Nyt8Q",
        "colab_type": "code",
        "colab": {}
      },
      "cell_type": "code",
      "source": [
        "X_test = []\n",
        "for i in range(len_seq, inputs.shape[0]):\n",
        "    X_test.append(inputs[i-len_seq:i, :])\n",
        "X_test = np.array(X_test)"
      ],
      "execution_count": 0,
      "outputs": []
    },
    {
      "metadata": {
        "id": "vUttTBfuyt8S",
        "colab_type": "code",
        "colab": {}
      },
      "cell_type": "code",
      "source": [
        "X_test.shape"
      ],
      "execution_count": 0,
      "outputs": []
    },
    {
      "metadata": {
        "id": "uqyjrckFyt8U",
        "colab_type": "code",
        "colab": {}
      },
      "cell_type": "code",
      "source": [
        "X_test = np.reshape(X_test, (X_test.shape[0], X_test.shape[1], X_test.shape[2]))\n",
        "predicted_data = regressor.predict(X_test)"
      ],
      "execution_count": 0,
      "outputs": []
    },
    {
      "metadata": {
        "id": "9cQFvR3eLQr8",
        "colab_type": "code",
        "colab": {}
      },
      "cell_type": "code",
      "source": [
        ""
      ],
      "execution_count": 0,
      "outputs": []
    },
    {
      "metadata": {
        "id": "y87dQ5DiLJ4r",
        "colab_type": "code",
        "outputId": "53fd2ded-8da8-4dcd-a177-bb827b25ec40",
        "colab": {
          "base_uri": "https://localhost:8080/",
          "height": 34
        }
      },
      "cell_type": "code",
      "source": [
        "import sklearn\n",
        "print('The scikit-learn version is {}.'.format(sklearn.__version__))"
      ],
      "execution_count": 0,
      "outputs": [
        {
          "output_type": "stream",
          "text": [
            "The scikit-learn version is 0.20.1.\n"
          ],
          "name": "stdout"
        }
      ]
    },
    {
      "metadata": {
        "id": "6132fOG1yt8V",
        "colab_type": "code",
        "colab": {}
      },
      "cell_type": "code",
      "source": [
        "predicted_url = predicted_data[:,:-1]\n",
        "predicted_url = onehotencoder.inverse_transform(predicted_url)\n",
        "predicted_time = predicted_data[:,-1].reshape(-1,1)\n",
        "predicted_time = sc.inverse_transform(predicted_time)"
      ],
      "execution_count": 0,
      "outputs": []
    },
    {
      "metadata": {
        "id": "uIznmq7Vyt8X",
        "colab_type": "code",
        "colab": {}
      },
      "cell_type": "code",
      "source": [
        "predicted_time"
      ],
      "execution_count": 0,
      "outputs": []
    },
    {
      "metadata": {
        "id": "DXeMvnU-yt8Z",
        "colab_type": "code",
        "outputId": "62be6922-5a99-4c5d-e663-b57690753556",
        "colab": {
          "base_uri": "https://localhost:8080/",
          "height": 68
        }
      },
      "cell_type": "code",
      "source": [
        "from pprint import pprint\n",
        "count_total = 0\n",
        "count_equal = 0\n",
        "count_time_good = 0\n",
        "prediction_counts_url_correct = {}\n",
        "prediction_counts_time_correct = {}\n",
        "prediction_counts_url = {}\n",
        "prediction_counts_time = {}\n",
        "for i in range(0,len(predicted_url)):\n",
        "    if prediction_counts_url.get(predicted_url[i][0]) == None:\n",
        "            prediction_counts_url[predicted_url[i][0]] = 1\n",
        "    else:\n",
        "        prediction_counts_url[predicted_url[i][0]] += 1\n",
        "    #print(predicted_url[i],real_urls[i])\n",
        "    count_total += 1\n",
        "    if predicted_url[i] == real_urls[i]:\n",
        "        if prediction_counts_url_correct.get(predicted_url[i][0]) == None:\n",
        "            prediction_counts_url_correct[predicted_url[i][0]] = 1\n",
        "        else:\n",
        "            prediction_counts_url_correct[predicted_url[i][0]] += 1\n",
        "        count_equal += 1\n",
        "    if abs(predicted_time[i] - real_times[i]) < 5:\n",
        "      count_time_good += 1\n",
        "print(count_time_good)\n",
        "print(\"{} correct URL predicted over {} total URLs.\".format(count_equal,count_total))\n",
        "print(\"Precision: %{}\".format(count_equal/count_total))"
      ],
      "execution_count": 0,
      "outputs": [
        {
          "output_type": "stream",
          "text": [
            "499\n",
            "55 correct URL predicted over 3477 total URLs.\n",
            "Precision: %0.015818234109864826\n"
          ],
          "name": "stdout"
        }
      ]
    },
    {
      "metadata": {
        "id": "_jZ8foiTyt8b",
        "colab_type": "code",
        "outputId": "5e99e8bd-d778-455b-8e9c-4e1784b3700f",
        "colab": {
          "base_uri": "https://localhost:8080/",
          "height": 34
        }
      },
      "cell_type": "code",
      "source": [
        "rmse = sqrt(mean_squared_error(predicted_time,real_times))\n",
        "print(rmse)"
      ],
      "execution_count": 0,
      "outputs": [
        {
          "output_type": "stream",
          "text": [
            "206.60676574678394\n"
          ],
          "name": "stdout"
        }
      ]
    },
    {
      "metadata": {
        "id": "HPKAK5TLyt8d",
        "colab_type": "code",
        "outputId": "88ac6248-ef6f-4710-e6ac-121345d8828e",
        "colab": {
          "base_uri": "https://localhost:8080/",
          "height": 340
        }
      },
      "cell_type": "code",
      "source": [
        "pprint(prediction_counts_url)"
      ],
      "execution_count": 0,
      "outputs": [
        {
          "output_type": "stream",
          "text": [
            "{3.0: 169,\n",
            " 28.0: 14,\n",
            " 87.0: 4,\n",
            " 103.0: 1,\n",
            " 104.0: 2,\n",
            " 111.0: 1,\n",
            " 121.0: 171,\n",
            " 124.0: 2814,\n",
            " 125.0: 267,\n",
            " 159.0: 2,\n",
            " 196.0: 2,\n",
            " 198.0: 1,\n",
            " 661.0: 1,\n",
            " 677.0: 12,\n",
            " 910.0: 5,\n",
            " 950.0: 2,\n",
            " 1788.0: 1,\n",
            " 1926.0: 3,\n",
            " 1927.0: 5}\n"
          ],
          "name": "stdout"
        }
      ]
    },
    {
      "metadata": {
        "id": "7AwNXed9yt8f",
        "colab_type": "code",
        "outputId": "efde7431-40d1-44ca-d1ad-f13fc0a487ee",
        "colab": {
          "base_uri": "https://localhost:8080/",
          "height": 376
        }
      },
      "cell_type": "code",
      "source": [
        "# Visualising the results\n",
        "plt.plot(real_urls, color = 'red', label = 'Real URL')\n",
        "plt.plot(predicted_url, color = 'blue', label = 'Predicted URL')\n",
        "plt.title('URL Prediction')\n",
        "plt.xlabel('Time')\n",
        "plt.ylabel('URL Visited')\n",
        "plt.legend()\n",
        "plt.show()"
      ],
      "execution_count": 0,
      "outputs": [
        {
          "output_type": "display_data",
          "data": {
            "image/png": "[encoded data removed]",
            "text/plain": [
              "<matplotlib.figure.Figure at 0x7fe03931d630>"
            ]
          },
          "metadata": {
            "tags": []
          }
        }
      ]
    }
  ]
}