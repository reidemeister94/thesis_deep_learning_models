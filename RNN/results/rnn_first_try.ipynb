{
 "cells": [
  {
   "cell_type": "markdown",
   "metadata": {},
   "source": [
    "# First try - RNN (No sequences with variable length, 1 feature : urlCode)\n",
    "\n",
    "### In this notebook, I wrote a RNN, using only the urlCode as feature (categorical). With just this feature and without dividing the complete log sequence in sessions, I obtained a % of correct predicted URL between 14 and 20."
   ]
  },
  {
   "cell_type": "code",
   "execution_count": 1,
   "metadata": {},
   "outputs": [],
   "source": [
    "# Recurrent Neural Network\n",
    "\n",
    "\n",
    "# Importing the libraries\n",
    "import numpy as np\n",
    "import matplotlib.pyplot as plt\n",
    "import pandas as pd\n",
    "from sklearn.model_selection import train_test_split\n",
    "from sklearn.preprocessing import LabelEncoder, OneHotEncoder, MinMaxScaler"
   ]
  },
  {
   "cell_type": "code",
   "execution_count": 2,
   "metadata": {},
   "outputs": [],
   "source": [
    "# Importing the data set and splitting in train and test\n",
    "dataset_train = pd.read_csv('time_series_all_train.csv', names= [\"secFromPrevPage\", \"urlCode\"], header= None)\n",
    "training_set = dataset_train.iloc[:, 1:2].values"
   ]
  },
  {
   "cell_type": "code",
   "execution_count": 3,
   "metadata": {},
   "outputs": [
    {
     "data": {
      "text/html": [
       "<div>\n",
       "<style scoped>\n",
       "    .dataframe tbody tr th:only-of-type {\n",
       "        vertical-align: middle;\n",
       "    }\n",
       "\n",
       "    .dataframe tbody tr th {\n",
       "        vertical-align: top;\n",
       "    }\n",
       "\n",
       "    .dataframe thead th {\n",
       "        text-align: right;\n",
       "    }\n",
       "</style>\n",
       "<table border=\"1\" class=\"dataframe\">\n",
       "  <thead>\n",
       "    <tr style=\"text-align: right;\">\n",
       "      <th></th>\n",
       "      <th>secFromPrevPage</th>\n",
       "      <th>urlCode</th>\n",
       "    </tr>\n",
       "  </thead>\n",
       "  <tbody>\n",
       "    <tr>\n",
       "      <th>0</th>\n",
       "      <td>0</td>\n",
       "      <td>238</td>\n",
       "    </tr>\n",
       "    <tr>\n",
       "      <th>1</th>\n",
       "      <td>580</td>\n",
       "      <td>3</td>\n",
       "    </tr>\n",
       "    <tr>\n",
       "      <th>2</th>\n",
       "      <td>220</td>\n",
       "      <td>49</td>\n",
       "    </tr>\n",
       "    <tr>\n",
       "      <th>3</th>\n",
       "      <td>660</td>\n",
       "      <td>3</td>\n",
       "    </tr>\n",
       "    <tr>\n",
       "      <th>4</th>\n",
       "      <td>100</td>\n",
       "      <td>0</td>\n",
       "    </tr>\n",
       "    <tr>\n",
       "      <th>5</th>\n",
       "      <td>300</td>\n",
       "      <td>43</td>\n",
       "    </tr>\n",
       "    <tr>\n",
       "      <th>6</th>\n",
       "      <td>20</td>\n",
       "      <td>42</td>\n",
       "    </tr>\n",
       "    <tr>\n",
       "      <th>7</th>\n",
       "      <td>870</td>\n",
       "      <td>238</td>\n",
       "    </tr>\n",
       "    <tr>\n",
       "      <th>8</th>\n",
       "      <td>12330</td>\n",
       "      <td>0</td>\n",
       "    </tr>\n",
       "    <tr>\n",
       "      <th>9</th>\n",
       "      <td>2400</td>\n",
       "      <td>3</td>\n",
       "    </tr>\n",
       "    <tr>\n",
       "      <th>10</th>\n",
       "      <td>2570</td>\n",
       "      <td>3</td>\n",
       "    </tr>\n",
       "    <tr>\n",
       "      <th>11</th>\n",
       "      <td>180</td>\n",
       "      <td>0</td>\n",
       "    </tr>\n",
       "    <tr>\n",
       "      <th>12</th>\n",
       "      <td>270</td>\n",
       "      <td>42</td>\n",
       "    </tr>\n",
       "    <tr>\n",
       "      <th>13</th>\n",
       "      <td>260</td>\n",
       "      <td>43</td>\n",
       "    </tr>\n",
       "    <tr>\n",
       "      <th>14</th>\n",
       "      <td>90</td>\n",
       "      <td>238</td>\n",
       "    </tr>\n",
       "    <tr>\n",
       "      <th>15</th>\n",
       "      <td>1380</td>\n",
       "      <td>321</td>\n",
       "    </tr>\n",
       "    <tr>\n",
       "      <th>16</th>\n",
       "      <td>1720</td>\n",
       "      <td>199</td>\n",
       "    </tr>\n",
       "    <tr>\n",
       "      <th>17</th>\n",
       "      <td>0</td>\n",
       "      <td>1</td>\n",
       "    </tr>\n",
       "    <tr>\n",
       "      <th>18</th>\n",
       "      <td>0</td>\n",
       "      <td>4</td>\n",
       "    </tr>\n",
       "    <tr>\n",
       "      <th>19</th>\n",
       "      <td>60</td>\n",
       "      <td>5</td>\n",
       "    </tr>\n",
       "    <tr>\n",
       "      <th>20</th>\n",
       "      <td>80</td>\n",
       "      <td>10</td>\n",
       "    </tr>\n",
       "    <tr>\n",
       "      <th>21</th>\n",
       "      <td>40</td>\n",
       "      <td>6</td>\n",
       "    </tr>\n",
       "    <tr>\n",
       "      <th>22</th>\n",
       "      <td>30</td>\n",
       "      <td>8</td>\n",
       "    </tr>\n",
       "    <tr>\n",
       "      <th>23</th>\n",
       "      <td>30</td>\n",
       "      <td>2</td>\n",
       "    </tr>\n",
       "    <tr>\n",
       "      <th>24</th>\n",
       "      <td>10</td>\n",
       "      <td>8</td>\n",
       "    </tr>\n",
       "    <tr>\n",
       "      <th>25</th>\n",
       "      <td>0</td>\n",
       "      <td>3</td>\n",
       "    </tr>\n",
       "    <tr>\n",
       "      <th>26</th>\n",
       "      <td>80</td>\n",
       "      <td>11</td>\n",
       "    </tr>\n",
       "    <tr>\n",
       "      <th>27</th>\n",
       "      <td>90</td>\n",
       "      <td>13</td>\n",
       "    </tr>\n",
       "    <tr>\n",
       "      <th>28</th>\n",
       "      <td>50</td>\n",
       "      <td>7</td>\n",
       "    </tr>\n",
       "    <tr>\n",
       "      <th>29</th>\n",
       "      <td>20</td>\n",
       "      <td>11</td>\n",
       "    </tr>\n",
       "    <tr>\n",
       "      <th>...</th>\n",
       "      <td>...</td>\n",
       "      <td>...</td>\n",
       "    </tr>\n",
       "    <tr>\n",
       "      <th>17418</th>\n",
       "      <td>50</td>\n",
       "      <td>50</td>\n",
       "    </tr>\n",
       "    <tr>\n",
       "      <th>17419</th>\n",
       "      <td>70</td>\n",
       "      <td>120</td>\n",
       "    </tr>\n",
       "    <tr>\n",
       "      <th>17420</th>\n",
       "      <td>10</td>\n",
       "      <td>121</td>\n",
       "    </tr>\n",
       "    <tr>\n",
       "      <th>17421</th>\n",
       "      <td>0</td>\n",
       "      <td>677</td>\n",
       "    </tr>\n",
       "    <tr>\n",
       "      <th>17422</th>\n",
       "      <td>100</td>\n",
       "      <td>124</td>\n",
       "    </tr>\n",
       "    <tr>\n",
       "      <th>17423</th>\n",
       "      <td>10</td>\n",
       "      <td>125</td>\n",
       "    </tr>\n",
       "    <tr>\n",
       "      <th>17424</th>\n",
       "      <td>100</td>\n",
       "      <td>38</td>\n",
       "    </tr>\n",
       "    <tr>\n",
       "      <th>17425</th>\n",
       "      <td>0</td>\n",
       "      <td>3</td>\n",
       "    </tr>\n",
       "    <tr>\n",
       "      <th>17426</th>\n",
       "      <td>0</td>\n",
       "      <td>3</td>\n",
       "    </tr>\n",
       "    <tr>\n",
       "      <th>17427</th>\n",
       "      <td>280</td>\n",
       "      <td>19</td>\n",
       "    </tr>\n",
       "    <tr>\n",
       "      <th>17428</th>\n",
       "      <td>0</td>\n",
       "      <td>121</td>\n",
       "    </tr>\n",
       "    <tr>\n",
       "      <th>17429</th>\n",
       "      <td>40</td>\n",
       "      <td>121</td>\n",
       "    </tr>\n",
       "    <tr>\n",
       "      <th>17430</th>\n",
       "      <td>100</td>\n",
       "      <td>124</td>\n",
       "    </tr>\n",
       "    <tr>\n",
       "      <th>17431</th>\n",
       "      <td>10</td>\n",
       "      <td>125</td>\n",
       "    </tr>\n",
       "    <tr>\n",
       "      <th>17432</th>\n",
       "      <td>0</td>\n",
       "      <td>876</td>\n",
       "    </tr>\n",
       "    <tr>\n",
       "      <th>17433</th>\n",
       "      <td>50</td>\n",
       "      <td>869</td>\n",
       "    </tr>\n",
       "    <tr>\n",
       "      <th>17434</th>\n",
       "      <td>0</td>\n",
       "      <td>2201</td>\n",
       "    </tr>\n",
       "    <tr>\n",
       "      <th>17435</th>\n",
       "      <td>120</td>\n",
       "      <td>914</td>\n",
       "    </tr>\n",
       "    <tr>\n",
       "      <th>17436</th>\n",
       "      <td>30</td>\n",
       "      <td>3179</td>\n",
       "    </tr>\n",
       "    <tr>\n",
       "      <th>17437</th>\n",
       "      <td>70</td>\n",
       "      <td>739</td>\n",
       "    </tr>\n",
       "    <tr>\n",
       "      <th>17438</th>\n",
       "      <td>20</td>\n",
       "      <td>1812</td>\n",
       "    </tr>\n",
       "    <tr>\n",
       "      <th>17439</th>\n",
       "      <td>110</td>\n",
       "      <td>1409</td>\n",
       "    </tr>\n",
       "    <tr>\n",
       "      <th>17440</th>\n",
       "      <td>20</td>\n",
       "      <td>726</td>\n",
       "    </tr>\n",
       "    <tr>\n",
       "      <th>17441</th>\n",
       "      <td>10</td>\n",
       "      <td>727</td>\n",
       "    </tr>\n",
       "    <tr>\n",
       "      <th>17442</th>\n",
       "      <td>50</td>\n",
       "      <td>2201</td>\n",
       "    </tr>\n",
       "    <tr>\n",
       "      <th>17443</th>\n",
       "      <td>90</td>\n",
       "      <td>1200</td>\n",
       "    </tr>\n",
       "    <tr>\n",
       "      <th>17444</th>\n",
       "      <td>910</td>\n",
       "      <td>869</td>\n",
       "    </tr>\n",
       "    <tr>\n",
       "      <th>17445</th>\n",
       "      <td>70</td>\n",
       "      <td>876</td>\n",
       "    </tr>\n",
       "    <tr>\n",
       "      <th>17446</th>\n",
       "      <td>260</td>\n",
       "      <td>1200</td>\n",
       "    </tr>\n",
       "    <tr>\n",
       "      <th>17447</th>\n",
       "      <td>30</td>\n",
       "      <td>3179</td>\n",
       "    </tr>\n",
       "  </tbody>\n",
       "</table>\n",
       "<p>17448 rows × 2 columns</p>\n",
       "</div>"
      ],
      "text/plain": [
       "       secFromPrevPage  urlCode\n",
       "0                    0      238\n",
       "1                  580        3\n",
       "2                  220       49\n",
       "3                  660        3\n",
       "4                  100        0\n",
       "5                  300       43\n",
       "6                   20       42\n",
       "7                  870      238\n",
       "8                12330        0\n",
       "9                 2400        3\n",
       "10                2570        3\n",
       "11                 180        0\n",
       "12                 270       42\n",
       "13                 260       43\n",
       "14                  90      238\n",
       "15                1380      321\n",
       "16                1720      199\n",
       "17                   0        1\n",
       "18                   0        4\n",
       "19                  60        5\n",
       "20                  80       10\n",
       "21                  40        6\n",
       "22                  30        8\n",
       "23                  30        2\n",
       "24                  10        8\n",
       "25                   0        3\n",
       "26                  80       11\n",
       "27                  90       13\n",
       "28                  50        7\n",
       "29                  20       11\n",
       "...                ...      ...\n",
       "17418               50       50\n",
       "17419               70      120\n",
       "17420               10      121\n",
       "17421                0      677\n",
       "17422              100      124\n",
       "17423               10      125\n",
       "17424              100       38\n",
       "17425                0        3\n",
       "17426                0        3\n",
       "17427              280       19\n",
       "17428                0      121\n",
       "17429               40      121\n",
       "17430              100      124\n",
       "17431               10      125\n",
       "17432                0      876\n",
       "17433               50      869\n",
       "17434                0     2201\n",
       "17435              120      914\n",
       "17436               30     3179\n",
       "17437               70      739\n",
       "17438               20     1812\n",
       "17439              110     1409\n",
       "17440               20      726\n",
       "17441               10      727\n",
       "17442               50     2201\n",
       "17443               90     1200\n",
       "17444              910      869\n",
       "17445               70      876\n",
       "17446              260     1200\n",
       "17447               30     3179\n",
       "\n",
       "[17448 rows x 2 columns]"
      ]
     },
     "execution_count": 3,
     "metadata": {},
     "output_type": "execute_result"
    }
   ],
   "source": [
    "dataset_train"
   ]
  },
  {
   "cell_type": "code",
   "execution_count": 4,
   "metadata": {},
   "outputs": [
    {
     "data": {
      "text/plain": [
       "(17448, 1)"
      ]
     },
     "execution_count": 4,
     "metadata": {},
     "output_type": "execute_result"
    }
   ],
   "source": [
    "training_set.shape"
   ]
  },
  {
   "cell_type": "code",
   "execution_count": 5,
   "metadata": {},
   "outputs": [
    {
     "name": "stdout",
     "output_type": "stream",
     "text": [
      "(17448, 1)\n",
      "(17448, 3436)\n"
     ]
    },
    {
     "data": {
      "text/plain": [
       "True"
      ]
     },
     "execution_count": 5,
     "metadata": {},
     "output_type": "execute_result"
    }
   ],
   "source": [
    "onehotencoder = OneHotEncoder(categories='auto')\n",
    "training_set = training_set.reshape(-1,1)\n",
    "print(training_set.shape)\n",
    "\n",
    "\n",
    "training_set_scaled = onehotencoder.fit_transform(training_set).toarray()\n",
    "print(training_set_scaled.shape)\n",
    "#training_set_scaled[17443,:] == training_set_scaled[17446,:]\n",
    "np.array_equal(training_set_scaled[17443,:],training_set_scaled[17446,:])"
   ]
  },
  {
   "cell_type": "code",
   "execution_count": 6,
   "metadata": {},
   "outputs": [
    {
     "data": {
      "text/plain": [
       "'\\n# Feature Scaling\\nsc = MinMaxScaler(feature_range = (0, 1))\\ntraining_set_scaled = sc.fit_transform(training_set)\\n'"
      ]
     },
     "execution_count": 6,
     "metadata": {},
     "output_type": "execute_result"
    }
   ],
   "source": [
    "'''\n",
    "# Feature Scaling\n",
    "sc = MinMaxScaler(feature_range = (0, 1))\n",
    "training_set_scaled = sc.fit_transform(training_set)\n",
    "'''"
   ]
  },
  {
   "cell_type": "code",
   "execution_count": 7,
   "metadata": {},
   "outputs": [],
   "source": [
    "#training_set_scaled"
   ]
  },
  {
   "cell_type": "code",
   "execution_count": 8,
   "metadata": {},
   "outputs": [],
   "source": [
    "# Creating a data structure with 60 timesteps and 1 output\n",
    "X_train = []\n",
    "y_train = []\n",
    "for i in range(8, 17448):\n",
    "    X_train.append(training_set_scaled[i-8:i, :])\n",
    "    y_train.append(training_set_scaled[i, :])\n",
    "X_train, y_train = np.array(X_train), np.array(y_train)"
   ]
  },
  {
   "cell_type": "code",
   "execution_count": 9,
   "metadata": {},
   "outputs": [
    {
     "data": {
      "text/plain": [
       "(17440, 8, 3436)"
      ]
     },
     "execution_count": 9,
     "metadata": {},
     "output_type": "execute_result"
    }
   ],
   "source": [
    "X_train.shape"
   ]
  },
  {
   "cell_type": "code",
   "execution_count": null,
   "metadata": {},
   "outputs": [],
   "source": [
    "X_train"
   ]
  },
  {
   "cell_type": "code",
   "execution_count": 12,
   "metadata": {},
   "outputs": [],
   "source": [
    "# Reshaping\n",
    "#X_train = np.reshape(X_train, (X_train.shape[0], X_train.shape[1], ))"
   ]
  },
  {
   "cell_type": "code",
   "execution_count": 13,
   "metadata": {},
   "outputs": [
    {
     "data": {
      "text/plain": [
       "array([[[0., 0., 0., ..., 0., 0., 0.],\n",
       "        [0., 0., 0., ..., 0., 0., 0.],\n",
       "        [0., 0., 0., ..., 0., 0., 0.],\n",
       "        ...,\n",
       "        [0., 0., 0., ..., 0., 0., 0.],\n",
       "        [0., 0., 0., ..., 0., 0., 0.],\n",
       "        [0., 0., 0., ..., 0., 0., 0.]],\n",
       "\n",
       "       [[0., 0., 0., ..., 0., 0., 0.],\n",
       "        [0., 0., 0., ..., 0., 0., 0.],\n",
       "        [0., 0., 0., ..., 0., 0., 0.],\n",
       "        ...,\n",
       "        [0., 0., 0., ..., 0., 0., 0.],\n",
       "        [0., 0., 0., ..., 0., 0., 0.],\n",
       "        [1., 0., 0., ..., 0., 0., 0.]],\n",
       "\n",
       "       [[0., 0., 0., ..., 0., 0., 0.],\n",
       "        [0., 0., 0., ..., 0., 0., 0.],\n",
       "        [1., 0., 0., ..., 0., 0., 0.],\n",
       "        ...,\n",
       "        [0., 0., 0., ..., 0., 0., 0.],\n",
       "        [1., 0., 0., ..., 0., 0., 0.],\n",
       "        [0., 0., 0., ..., 0., 0., 0.]],\n",
       "\n",
       "       ...,\n",
       "\n",
       "       [[0., 0., 0., ..., 0., 0., 0.],\n",
       "        [0., 0., 0., ..., 0., 0., 0.],\n",
       "        [0., 0., 0., ..., 0., 0., 0.],\n",
       "        ...,\n",
       "        [0., 0., 0., ..., 0., 0., 0.],\n",
       "        [0., 0., 0., ..., 0., 0., 0.],\n",
       "        [0., 0., 0., ..., 0., 0., 0.]],\n",
       "\n",
       "       [[0., 0., 0., ..., 0., 0., 0.],\n",
       "        [0., 0., 0., ..., 0., 0., 0.],\n",
       "        [0., 0., 0., ..., 0., 0., 0.],\n",
       "        ...,\n",
       "        [0., 0., 0., ..., 0., 0., 0.],\n",
       "        [0., 0., 0., ..., 0., 0., 0.],\n",
       "        [0., 0., 0., ..., 0., 0., 0.]],\n",
       "\n",
       "       [[0., 0., 0., ..., 0., 0., 0.],\n",
       "        [0., 0., 0., ..., 0., 0., 0.],\n",
       "        [0., 0., 0., ..., 0., 0., 0.],\n",
       "        ...,\n",
       "        [0., 0., 0., ..., 0., 0., 0.],\n",
       "        [0., 0., 0., ..., 0., 0., 0.],\n",
       "        [0., 0., 0., ..., 0., 0., 0.]]])"
      ]
     },
     "execution_count": 13,
     "metadata": {},
     "output_type": "execute_result"
    }
   ],
   "source": [
    "X_train"
   ]
  },
  {
   "cell_type": "code",
   "execution_count": 14,
   "metadata": {},
   "outputs": [
    {
     "name": "stderr",
     "output_type": "stream",
     "text": [
      "Using TensorFlow backend.\n"
     ]
    }
   ],
   "source": [
    "# Part 2 - Building the RNN\n",
    "\n",
    "# Importing the Keras libraries and packages\n",
    "from keras.models import Sequential\n",
    "from keras.layers import Dense, Flatten\n",
    "from keras.layers import LSTM\n",
    "from keras.layers import Dropout"
   ]
  },
  {
   "cell_type": "code",
   "execution_count": 15,
   "metadata": {},
   "outputs": [
    {
     "name": "stdout",
     "output_type": "stream",
     "text": [
      "(17440, 8, 3436)\n",
      "Epoch 1/50\n",
      "17440/17440 [==============================] - 56s 3ms/step - loss: 6.8707 - acc: 0.1087\n",
      "Epoch 2/50\n",
      "17440/17440 [==============================] - 65s 4ms/step - loss: 6.5522 - acc: 0.1096\n",
      "Epoch 3/50\n",
      "17440/17440 [==============================] - 55s 3ms/step - loss: 6.3585 - acc: 0.1099: 1s - loss: 6.3593 -\n",
      "Epoch 4/50\n",
      "17440/17440 [==============================] - 53s 3ms/step - loss: 6.2263 - acc: 0.1114: 1s - loss: 6.2\n",
      "Epoch 5/50\n",
      "17440/17440 [==============================] - 53s 3ms/step - loss: 6.1373 - acc: 0.1145\n",
      "Epoch 6/50\n",
      "17440/17440 [==============================] - 52s 3ms/step - loss: 6.0639 - acc: 0.1198: 1s - loss: 6.0613 \n",
      "Epoch 7/50\n",
      "17440/17440 [==============================] - 51s 3ms/step - loss: 6.0014 - acc: 0.1237\n",
      "Epoch 8/50\n",
      "17440/17440 [==============================] - 54s 3ms/step - loss: 5.9399 - acc: 0.1303\n",
      "Epoch 9/50\n",
      "17440/17440 [==============================] - 58s 3ms/step - loss: 5.8815 - acc: 0.1360\n",
      "Epoch 10/50\n",
      "17440/17440 [==============================] - 58s 3ms/step - loss: 5.8363 - acc: 0.1413\n",
      "Epoch 11/50\n",
      "17440/17440 [==============================] - 56s 3ms/step - loss: 5.7983 - acc: 0.1460\n",
      "Epoch 12/50\n",
      "17440/17440 [==============================] - 53s 3ms/step - loss: 5.7699 - acc: 0.1540\n",
      "Epoch 13/50\n",
      "17440/17440 [==============================] - 52s 3ms/step - loss: 5.7515 - acc: 0.1567\n",
      "Epoch 14/50\n",
      "17440/17440 [==============================] - 51s 3ms/step - loss: 5.7418 - acc: 0.1635\n",
      "Epoch 15/50\n",
      "17440/17440 [==============================] - 51s 3ms/step - loss: 5.7608 - acc: 0.1685\n",
      "Epoch 16/50\n",
      "17440/17440 [==============================] - 51s 3ms/step - loss: 5.7929 - acc: 0.1758\n",
      "Epoch 17/50\n",
      "17440/17440 [==============================] - 51s 3ms/step - loss: 5.8424 - acc: 0.1791\n",
      "Epoch 18/50\n",
      "17440/17440 [==============================] - 51s 3ms/step - loss: 5.8867 - acc: 0.1835\n",
      "Epoch 19/50\n",
      "17440/17440 [==============================] - 53s 3ms/step - loss: 5.9165 - acc: 0.1908\n",
      "Epoch 20/50\n",
      "17440/17440 [==============================] - 57s 3ms/step - loss: 5.9348 - acc: 0.1915\n",
      "Epoch 21/50\n",
      "17440/17440 [==============================] - 55s 3ms/step - loss: 5.9550 - acc: 0.1937\n",
      "Epoch 22/50\n",
      "17440/17440 [==============================] - 52s 3ms/step - loss: 5.9684 - acc: 0.2009\n",
      "Epoch 23/50\n",
      "17440/17440 [==============================] - 55s 3ms/step - loss: 5.9725 - acc: 0.2062\n",
      "Epoch 24/50\n",
      "17440/17440 [==============================] - 52s 3ms/step - loss: 5.9772 - acc: 0.2100\n",
      "Epoch 25/50\n",
      "17440/17440 [==============================] - 52s 3ms/step - loss: 5.9825 - acc: 0.2162\n",
      "Epoch 26/50\n",
      "17440/17440 [==============================] - 51s 3ms/step - loss: 5.9887 - acc: 0.2185\n",
      "Epoch 27/50\n",
      "17440/17440 [==============================] - 52s 3ms/step - loss: 5.9909 - acc: 0.2220\n",
      "Epoch 28/50\n",
      "17440/17440 [==============================] - 52s 3ms/step - loss: 5.9974 - acc: 0.2275\n",
      "Epoch 29/50\n",
      "17440/17440 [==============================] - 51s 3ms/step - loss: 5.9946 - acc: 0.2389\n",
      "Epoch 30/50\n",
      "17440/17440 [==============================] - 56s 3ms/step - loss: 6.0005 - acc: 0.2413\n",
      "Epoch 31/50\n",
      "17440/17440 [==============================] - 63s 4ms/step - loss: 5.9989 - acc: 0.2455\n",
      "Epoch 32/50\n",
      "17440/17440 [==============================] - 63s 4ms/step - loss: 6.0031 - acc: 0.2489\n",
      "Epoch 33/50\n",
      "17440/17440 [==============================] - 59s 3ms/step - loss: 5.9985 - acc: 0.2538\n",
      "Epoch 34/50\n",
      "17440/17440 [==============================] - 52s 3ms/step - loss: 5.9943 - acc: 0.2580\n",
      "Epoch 35/50\n",
      "17440/17440 [==============================] - 60s 3ms/step - loss: 5.9974 - acc: 0.2577\n",
      "Epoch 36/50\n",
      "17440/17440 [==============================] - 58s 3ms/step - loss: 5.9874 - acc: 0.2676\n",
      "Epoch 37/50\n",
      "17440/17440 [==============================] - 58s 3ms/step - loss: 5.9802 - acc: 0.2724\n",
      "Epoch 38/50\n",
      "17440/17440 [==============================] - 58s 3ms/step - loss: 5.9784 - acc: 0.2752\n",
      "Epoch 39/50\n",
      "17440/17440 [==============================] - 57s 3ms/step - loss: 5.9761 - acc: 0.2768\n",
      "Epoch 40/50\n",
      "17440/17440 [==============================] - 58s 3ms/step - loss: 5.9608 - acc: 0.2847\n",
      "Epoch 41/50\n",
      "17440/17440 [==============================] - 57s 3ms/step - loss: 5.9562 - acc: 0.2850: 0s - loss: 5.9556 - acc: 0.\n",
      "Epoch 42/50\n",
      "17440/17440 [==============================] - 59s 3ms/step - loss: 5.9437 - acc: 0.2907\n",
      "Epoch 43/50\n",
      "17440/17440 [==============================] - 47s 3ms/step - loss: 5.9333 - acc: 0.2950\n",
      "Epoch 44/50\n",
      "17440/17440 [==============================] - 46s 3ms/step - loss: 5.9303 - acc: 0.2956\n",
      "Epoch 45/50\n",
      "17440/17440 [==============================] - 60s 3ms/step - loss: 5.9153 - acc: 0.3024\n",
      "Epoch 46/50\n",
      "17440/17440 [==============================] - 61s 3ms/step - loss: 5.9035 - acc: 0.3034\n",
      "Epoch 47/50\n",
      "17440/17440 [==============================] - 63s 4ms/step - loss: 5.8948 - acc: 0.3114\n",
      "Epoch 48/50\n",
      "17440/17440 [==============================] - 57s 3ms/step - loss: 5.8895 - acc: 0.3080\n",
      "Epoch 49/50\n",
      "17440/17440 [==============================] - 57s 3ms/step - loss: 5.8746 - acc: 0.3116\n",
      "Epoch 50/50\n",
      "17440/17440 [==============================] - 57s 3ms/step - loss: 5.8652 - acc: 0.3177\n"
     ]
    },
    {
     "data": {
      "text/plain": [
       "<keras.callbacks.History at 0x1b3f28b0b8>"
      ]
     },
     "execution_count": 15,
     "metadata": {},
     "output_type": "execute_result"
    }
   ],
   "source": [
    "# Initialising the RNN\n",
    "regressor = Sequential()\n",
    "\n",
    "regressor.add(LSTM(units = 50, return_sequences = True, input_shape = (X_train.shape[1], X_train.shape[2])))\n",
    "regressor.add(Dropout(0.2))\n",
    "\n",
    "regressor.add(Flatten())\n",
    "\n",
    "\n",
    "regressor.add(Dense(activation ='softmax', units = X_train.shape[2]))\n",
    "regressor.compile(optimizer='rmsprop', loss='categorical_crossentropy', metrics=['accuracy'])\n",
    "\n",
    "# Fitting the RNN to the Training set\n",
    "regressor.fit(X_train, y_train, epochs = 50, batch_size = 32)"
   ]
  },
  {
   "cell_type": "code",
   "execution_count": 16,
   "metadata": {},
   "outputs": [],
   "source": [
    "# Part 3 - Making the predictions and visualising the results\n",
    "\n",
    "# Getting the real stock price of 2017\n",
    "dataset_test = pd.read_csv('time_series_all_test.csv', names= [\"secFromPrevPage\", \"urlCode\"], header= None)\n",
    "real_urls = dataset_test.iloc[:, 1:2].values"
   ]
  },
  {
   "cell_type": "code",
   "execution_count": 17,
   "metadata": {},
   "outputs": [
    {
     "data": {
      "text/plain": [
       "array([[190],\n",
       "       [191],\n",
       "       [ 31],\n",
       "       ...,\n",
       "       [ 34],\n",
       "       [  3],\n",
       "       [  3]])"
      ]
     },
     "execution_count": 17,
     "metadata": {},
     "output_type": "execute_result"
    }
   ],
   "source": [
    "real_urls"
   ]
  },
  {
   "cell_type": "code",
   "execution_count": 18,
   "metadata": {},
   "outputs": [],
   "source": [
    "# Getting the predicted urls\n",
    "dataset_total = pd.concat((dataset_train['urlCode'], dataset_test['urlCode']), axis = 0)\n",
    "inputs = dataset_total[len(dataset_total) - len(dataset_test) - 8:].values"
   ]
  },
  {
   "cell_type": "code",
   "execution_count": 20,
   "metadata": {},
   "outputs": [
    {
     "name": "stdout",
     "output_type": "stream",
     "text": [
      "(3485, 1)\n"
     ]
    },
    {
     "data": {
      "text/plain": [
       "array([[ 726],\n",
       "       [ 727],\n",
       "       [2201],\n",
       "       ...,\n",
       "       [  34],\n",
       "       [   3],\n",
       "       [   3]])"
      ]
     },
     "execution_count": 20,
     "metadata": {},
     "output_type": "execute_result"
    }
   ],
   "source": [
    "inputs = inputs.reshape(-1,1)\n",
    "print(inputs.shape)"
   ]
  },
  {
   "cell_type": "code",
   "execution_count": 21,
   "metadata": {},
   "outputs": [],
   "source": [
    "inputs = onehotencoder.transform(inputs).toarray()"
   ]
  },
  {
   "cell_type": "code",
   "execution_count": 22,
   "metadata": {},
   "outputs": [
    {
     "data": {
      "text/plain": [
       "(3485, 3436)"
      ]
     },
     "execution_count": 22,
     "metadata": {},
     "output_type": "execute_result"
    }
   ],
   "source": [
    "inputs.shape"
   ]
  },
  {
   "cell_type": "code",
   "execution_count": 23,
   "metadata": {},
   "outputs": [],
   "source": [
    "X_test = []\n",
    "for i in range(8, 3477):\n",
    "    X_test.append(inputs[i-8:i, :])\n",
    "X_test = np.array(X_test)"
   ]
  },
  {
   "cell_type": "code",
   "execution_count": 24,
   "metadata": {},
   "outputs": [
    {
     "data": {
      "text/plain": [
       "(3469, 8, 3436)"
      ]
     },
     "execution_count": 24,
     "metadata": {},
     "output_type": "execute_result"
    }
   ],
   "source": [
    "X_test.shape"
   ]
  },
  {
   "cell_type": "code",
   "execution_count": 25,
   "metadata": {},
   "outputs": [],
   "source": [
    "X_test = np.reshape(X_test, (X_test.shape[0], X_test.shape[1], X_test.shape[2]))\n",
    "predicted_url = regressor.predict(X_test)"
   ]
  },
  {
   "cell_type": "code",
   "execution_count": 26,
   "metadata": {},
   "outputs": [
    {
     "data": {
      "text/plain": [
       "(3469, 3436)"
      ]
     },
     "execution_count": 26,
     "metadata": {},
     "output_type": "execute_result"
    }
   ],
   "source": [
    "#predicted_url = predicted_url.reshape(1,-1)\n",
    "predicted_url.shape"
   ]
  },
  {
   "cell_type": "code",
   "execution_count": 27,
   "metadata": {},
   "outputs": [],
   "source": [
    "predicted_url = onehotencoder.inverse_transform(predicted_url)"
   ]
  },
  {
   "cell_type": "code",
   "execution_count": 28,
   "metadata": {},
   "outputs": [
    {
     "name": "stdout",
     "output_type": "stream",
     "text": [
      "491 correct URL predicted over 3469 total URLs.\n",
      "Precision: %0.14153934851542233\n"
     ]
    }
   ],
   "source": [
    "count_total = 0\n",
    "count_equal = 0\n",
    "for i in range(0,len(predicted_url)):\n",
    "    count_total += 1\n",
    "    if predicted_url[i] == real_urls[i]:\n",
    "        count_equal += 1\n",
    "print(\"{} correct URL predicted over {} total URLs.\".format(count_equal,count_total))\n",
    "print(\"Precision: %{}\".format(count_equal/count_total))"
   ]
  },
  {
   "cell_type": "code",
   "execution_count": 29,
   "metadata": {},
   "outputs": [
    {
     "data": {
      "image/png": "[encoded data removed]",
      "text/plain": [
       "<Figure size 432x288 with 1 Axes>"
      ]
     },
     "metadata": {
      "needs_background": "light"
     },
     "output_type": "display_data"
    }
   ],
   "source": [
    "# Visualising the results\n",
    "plt.plot(real_urls, color = 'red', label = 'Real URL')\n",
    "plt.plot(predicted_url, color = 'blue', label = 'Predicted URL')\n",
    "plt.title('URL Prediction')\n",
    "plt.xlabel('Time')\n",
    "plt.ylabel('URL Visited')\n",
    "plt.legend()\n",
    "plt.show()"
   ]
  }
 ],
 "metadata": {
  "kernelspec": {
   "display_name": "Python 3",
   "language": "python",
   "name": "python3"
  },
  "language_info": {
   "codemirror_mode": {
    "name": "ipython",
    "version": 3
   },
   "file_extension": ".py",
   "mimetype": "text/x-python",
   "name": "python",
   "nbconvert_exporter": "python",
   "pygments_lexer": "ipython3",
   "version": "3.7.1"
  }
 },
 "nbformat": 4,
 "nbformat_minor": 2
}
